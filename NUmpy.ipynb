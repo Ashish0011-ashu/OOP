{
  "nbformat": 4,
  "nbformat_minor": 0,
  "metadata": {
    "colab": {
      "provenance": [],
      "authorship_tag": "ABX9TyN9SGa8HzOXV0rrXTneLmQ0",
      "include_colab_link": true
    },
    "kernelspec": {
      "name": "python3",
      "display_name": "Python 3"
    },
    "language_info": {
      "name": "python"
    }
  },
  "cells": [
    {
      "cell_type": "markdown",
      "metadata": {
        "id": "view-in-github",
        "colab_type": "text"
      },
      "source": [
        "<a href=\"https://colab.research.google.com/github/Ashish0011-ashu/OOP/blob/main/NUmpy.ipynb\" target=\"_parent\"><img src=\"https://colab.research.google.com/assets/colab-badge.svg\" alt=\"Open In Colab\"/></a>"
      ]
    },
    {
      "cell_type": "code",
      "execution_count": null,
      "metadata": {
        "id": "qGfFoiB-sgW-"
      },
      "outputs": [],
      "source": []
    },
    {
      "cell_type": "code",
      "metadata": {
        "colab": {
          "base_uri": "https://localhost:8080/"
        },
        "id": "c5f12614",
        "outputId": "02f3bf47-cf89-47f0-b8bb-a83a0da8c023"
      },
      "source": [
        "import random\n",
        "\n",
        "# Generate a random float between 0.0 and 1.0\n",
        "random_float = random.random()\n",
        "print(f\"Random float: {random_float}\")\n",
        "\n",
        "# Generate a random integer between a and b (inclusive)\n",
        "random_integer = random.randint(1, 10)\n",
        "print(f\"Random integer between 1 and 10: {random_integer}\")\n",
        "\n",
        "# Generate a random element from a sequence\n",
        "my_list = [1, 2, 3, 4, 5]\n",
        "random_element = random.choice(my_list)\n",
        "print(f\"Random element from the list: {random_element}\")\n",
        "\n",
        "# Shuffle a sequence in place\n",
        "random.shuffle(my_list)\n",
        "print(f\"Shuffled list: {my_list}\")\n"
      ],
      "execution_count": null,
      "outputs": [
        {
          "output_type": "stream",
          "name": "stdout",
          "text": [
            "Random float: 0.4269408694004384\n",
            "Random integer between 1 and 10: 7\n",
            "Random element from the list: 1\n",
            "Shuffled list: [4, 1, 5, 2, 3]\n"
          ]
        }
      ]
    },
    {
      "cell_type": "code",
      "source": [
        "import pandas as pd\n",
        "data = {\n",
        "    'Name': ['Alice', 'Bob', 'Charlie'],\n",
        "    'Age': [25, 30, 35],\n",
        "    'City': ['New York', 'San Francisco', 'Los Angeles']\n",
        "}\n",
        "df = pd.DataFrame(data)\n",
        "print(df)"
      ],
      "metadata": {
        "colab": {
          "base_uri": "https://localhost:8080/"
        },
        "id": "nHqKlTUFtMyb",
        "outputId": "c6920827-2387-4f49-c08f-3d37fdc0a1f6"
      },
      "execution_count": null,
      "outputs": [
        {
          "output_type": "stream",
          "name": "stdout",
          "text": [
            "      Name  Age           City\n",
            "0    Alice   25       New York\n",
            "1      Bob   30  San Francisco\n",
            "2  Charlie   35    Los Angeles\n"
          ]
        }
      ]
    },
    {
      "cell_type": "code",
      "source": [
        "import pandas as pd\n",
        "data = {\n",
        "    'studet_id' : [1,2,3,4,5,6,7,8,],\n",
        "    'grade' : [85,54,65,62,74,89,43,56]\n",
        "}\n",
        "df = pd.DataFrame(data)\n",
        "# probability of passing (grades>60)\n",
        "total_student = len(df)\n",
        "pass_student = len(df[df['grade']>60])\n",
        "prob_pass = pass_student/total_student\n",
        "print(f\"Probability of passing: {prob_pass}\")\n"
      ],
      "metadata": {
        "colab": {
          "base_uri": "https://localhost:8080/"
        },
        "id": "kU0fZkXtuzDg",
        "outputId": "fb3a5a40-d505-4174-f148-57d9013ad2f4"
      },
      "execution_count": null,
      "outputs": [
        {
          "output_type": "stream",
          "name": "stdout",
          "text": [
            "Probability of passing: 0.625\n"
          ]
        }
      ]
    },
    {
      "cell_type": "code",
      "source": [
        "import numpy as np\n",
        "a = np.arange(0,100,2)\n",
        "a = a.reshape(5,10)\n",
        "print(a)"
      ],
      "metadata": {
        "colab": {
          "base_uri": "https://localhost:8080/"
        },
        "id": "HpK6DIbj65vi",
        "outputId": "98ef608a-7c7a-4289-dfd4-64bad4d6b61c"
      },
      "execution_count": null,
      "outputs": [
        {
          "output_type": "stream",
          "name": "stdout",
          "text": [
            "[[ 0  2  4  6  8 10 12 14 16 18]\n",
            " [20 22 24 26 28 30 32 34 36 38]\n",
            " [40 42 44 46 48 50 52 54 56 58]\n",
            " [60 62 64 66 68 70 72 74 76 78]\n",
            " [80 82 84 86 88 90 92 94 96 98]]\n"
          ]
        }
      ]
    },
    {
      "cell_type": "code",
      "source": [
        "a[3:4,4]"
      ],
      "metadata": {
        "colab": {
          "base_uri": "https://localhost:8080/"
        },
        "id": "Zd7gfiQBB_k5",
        "outputId": "1f01cd36-ed1c-43bf-ca7b-db7b65a60d02"
      },
      "execution_count": null,
      "outputs": [
        {
          "output_type": "execute_result",
          "data": {
            "text/plain": [
              "array([68])"
            ]
          },
          "metadata": {},
          "execution_count": 9
        }
      ]
    },
    {
      "cell_type": "code",
      "source": [
        "a[:2,5]"
      ],
      "metadata": {
        "colab": {
          "base_uri": "https://localhost:8080/"
        },
        "id": "TnLcwlvmChpu",
        "outputId": "65db1889-f3b7-4d23-cf13-ff6008a854ba"
      },
      "execution_count": null,
      "outputs": [
        {
          "output_type": "execute_result",
          "data": {
            "text/plain": [
              "array([10, 30])"
            ]
          },
          "metadata": {},
          "execution_count": 10
        }
      ]
    },
    {
      "cell_type": "code",
      "source": [
        "import numpy as np\n",
        "a = np.arange(0,100,2)\n",
        "a = a.reshape(5,10)\n",
        "\n",
        "\n",
        "b = np.arange(0,50).reshape(5,10)\n",
        "c = np.add(a,b)\n",
        "d = np.multiply(a,b)\n",
        "e = np.divide(a,b)\n",
        "f = np.mean([a,b])\n",
        "g = np.transpose(a)\n",
        "print(c)\n",
        "print(d)\n",
        "print(e)\n",
        "print(f)\n",
        "print(g)"
      ],
      "metadata": {
        "colab": {
          "base_uri": "https://localhost:8080/"
        },
        "id": "l7uR3Bk-CvOt",
        "outputId": "8b0de429-8d4f-4747-d959-b9b45a8c7f85"
      },
      "execution_count": null,
      "outputs": [
        {
          "output_type": "stream",
          "name": "stdout",
          "text": [
            "[[  0   3   6   9  12  15  18  21  24  27]\n",
            " [ 30  33  36  39  42  45  48  51  54  57]\n",
            " [ 60  63  66  69  72  75  78  81  84  87]\n",
            " [ 90  93  96  99 102 105 108 111 114 117]\n",
            " [120 123 126 129 132 135 138 141 144 147]]\n",
            "[[   0    2    8   18   32   50   72   98  128  162]\n",
            " [ 200  242  288  338  392  450  512  578  648  722]\n",
            " [ 800  882  968 1058 1152 1250 1352 1458 1568 1682]\n",
            " [1800 1922 2048 2178 2312 2450 2592 2738 2888 3042]\n",
            " [3200 3362 3528 3698 3872 4050 4232 4418 4608 4802]]\n",
            "[[nan  2.  2.  2.  2.  2.  2.  2.  2.  2.]\n",
            " [ 2.  2.  2.  2.  2.  2.  2.  2.  2.  2.]\n",
            " [ 2.  2.  2.  2.  2.  2.  2.  2.  2.  2.]\n",
            " [ 2.  2.  2.  2.  2.  2.  2.  2.  2.  2.]\n",
            " [ 2.  2.  2.  2.  2.  2.  2.  2.  2.  2.]]\n",
            "36.75\n",
            "[[ 0 20 40 60 80]\n",
            " [ 2 22 42 62 82]\n",
            " [ 4 24 44 64 84]\n",
            " [ 6 26 46 66 86]\n",
            " [ 8 28 48 68 88]\n",
            " [10 30 50 70 90]\n",
            " [12 32 52 72 92]\n",
            " [14 34 54 74 94]\n",
            " [16 36 56 76 96]\n",
            " [18 38 58 78 98]]\n"
          ]
        },
        {
          "output_type": "stream",
          "name": "stderr",
          "text": [
            "/tmp/ipython-input-2111244044.py:9: RuntimeWarning: invalid value encountered in divide\n",
            "  e = np.divide(a,b)\n"
          ]
        }
      ]
    },
    {
      "cell_type": "code",
      "source": [
        "print(a%b)"
      ],
      "metadata": {
        "colab": {
          "base_uri": "https://localhost:8080/"
        },
        "id": "5A-R6-2gD9Xg",
        "outputId": "e91cb77f-84fa-4775-c45d-46c0ee811bf5"
      },
      "execution_count": null,
      "outputs": [
        {
          "output_type": "stream",
          "name": "stdout",
          "text": [
            "[[0 0 0 0 0 0 0 0 0 0]\n",
            " [0 0 0 0 0 0 0 0 0 0]\n",
            " [0 0 0 0 0 0 0 0 0 0]\n",
            " [0 0 0 0 0 0 0 0 0 0]\n",
            " [0 0 0 0 0 0 0 0 0 0]]\n"
          ]
        },
        {
          "output_type": "stream",
          "name": "stderr",
          "text": [
            "/tmp/ipython-input-2836684996.py:1: RuntimeWarning: divide by zero encountered in remainder\n",
            "  print(a%b)\n"
          ]
        }
      ]
    },
    {
      "cell_type": "code",
      "source": [
        "print(np.sum(b) , np.log(b))"
      ],
      "metadata": {
        "colab": {
          "base_uri": "https://localhost:8080/"
        },
        "id": "fpYM4ikeFOYX",
        "outputId": "cac15e41-930f-46f5-dd12-95aea8d9bf23"
      },
      "execution_count": null,
      "outputs": [
        {
          "output_type": "stream",
          "name": "stdout",
          "text": [
            "1225 [[      -inf 0.         0.69314718 1.09861229 1.38629436 1.60943791\n",
            "  1.79175947 1.94591015 2.07944154 2.19722458]\n",
            " [2.30258509 2.39789527 2.48490665 2.56494936 2.63905733 2.7080502\n",
            "  2.77258872 2.83321334 2.89037176 2.94443898]\n",
            " [2.99573227 3.04452244 3.09104245 3.13549422 3.17805383 3.21887582\n",
            "  3.25809654 3.29583687 3.33220451 3.36729583]\n",
            " [3.40119738 3.4339872  3.4657359  3.49650756 3.52636052 3.55534806\n",
            "  3.58351894 3.61091791 3.63758616 3.66356165]\n",
            " [3.68887945 3.71357207 3.73766962 3.76120012 3.78418963 3.80666249\n",
            "  3.8286414  3.8501476  3.87120101 3.8918203 ]]\n"
          ]
        },
        {
          "output_type": "stream",
          "name": "stderr",
          "text": [
            "/tmp/ipython-input-3185959456.py:1: RuntimeWarning: divide by zero encountered in log\n",
            "  print(np.sum(b) , np.log(b))\n"
          ]
        }
      ]
    },
    {
      "cell_type": "code",
      "source": [
        "import matplotlib.pyplot as plt\n",
        "import numpy as np\n",
        "np.pi\n",
        "np.sin(np.pi/2)"
      ],
      "metadata": {
        "colab": {
          "base_uri": "https://localhost:8080/"
        },
        "id": "Tedc--GpF4CJ",
        "outputId": "0e5de39d-44e6-44e9-e140-902a1cd4ae56"
      },
      "execution_count": null,
      "outputs": [
        {
          "output_type": "execute_result",
          "data": {
            "text/plain": [
              "np.float64(1.0)"
            ]
          },
          "metadata": {},
          "execution_count": 23
        }
      ]
    },
    {
      "cell_type": "code",
      "source": [
        "import numpy as np\n",
        "a= np.tan(np.pi/2)\n",
        "print(a)"
      ],
      "metadata": {
        "colab": {
          "base_uri": "https://localhost:8080/"
        },
        "id": "D547v9YGGpY7",
        "outputId": "d53be473-2496-438a-ba98-68fcce7e892a"
      },
      "execution_count": null,
      "outputs": [
        {
          "output_type": "stream",
          "name": "stdout",
          "text": [
            "1.633123935319537e+16\n"
          ]
        }
      ]
    },
    {
      "cell_type": "code",
      "source": [
        "# using matplotlib\n",
        "x = np.arange(1,12)\n",
        "y =np.arange(10,111,10)\n",
        "plt.figure(figsize=(6,4))\n",
        "plt.plot(x,y, 'r--')\n",
        "plt.show"
      ],
      "metadata": {
        "colab": {
          "base_uri": "https://localhost:8080/",
          "height": 537
        },
        "id": "ZfaLC2leG3v6",
        "outputId": "18dc7dca-8893-4b9d-e419-b84d28818c34"
      },
      "execution_count": null,
      "outputs": [
        {
          "output_type": "execute_result",
          "data": {
            "text/plain": [
              "<function matplotlib.pyplot.show(close=None, block=None)>"
            ],
            "text/html": [
              "<div style=\"max-width:800px; border: 1px solid var(--colab-border-color);\"><style>\n",
              "      pre.function-repr-contents {\n",
              "        overflow-x: auto;\n",
              "        padding: 8px 12px;\n",
              "        max-height: 500px;\n",
              "      }\n",
              "\n",
              "      pre.function-repr-contents.function-repr-contents-collapsed {\n",
              "        cursor: pointer;\n",
              "        max-height: 100px;\n",
              "      }\n",
              "    </style>\n",
              "    <pre style=\"white-space: initial; background:\n",
              "         var(--colab-secondary-surface-color); padding: 8px 12px;\n",
              "         border-bottom: 1px solid var(--colab-border-color);\"><b>matplotlib.pyplot.show</b><br/>def show(*args, **kwargs) -&gt; None</pre><pre class=\"function-repr-contents function-repr-contents-collapsed\" style=\"\"><a class=\"filepath\" style=\"display:none\" href=\"#\">/usr/local/lib/python3.12/dist-packages/matplotlib/pyplot.py</a>Display all open figures.\n",
              "\n",
              "Parameters\n",
              "----------\n",
              "block : bool, optional\n",
              "    Whether to wait for all figures to be closed before returning.\n",
              "\n",
              "    If `True` block and run the GUI main loop until all figure windows\n",
              "    are closed.\n",
              "\n",
              "    If `False` ensure that all figure windows are displayed and return\n",
              "    immediately.  In this case, you are responsible for ensuring\n",
              "    that the event loop is running to have responsive figures.\n",
              "\n",
              "    Defaults to True in non-interactive mode and to False in interactive\n",
              "    mode (see `.pyplot.isinteractive`).\n",
              "\n",
              "See Also\n",
              "--------\n",
              "ion : Enable interactive mode, which shows / updates the figure after\n",
              "      every plotting command, so that calling ``show()`` is not necessary.\n",
              "ioff : Disable interactive mode.\n",
              "savefig : Save the figure to an image file instead of showing it on screen.\n",
              "\n",
              "Notes\n",
              "-----\n",
              "**Saving figures to file and showing a window at the same time**\n",
              "\n",
              "If you want an image file as well as a user interface window, use\n",
              "`.pyplot.savefig` before `.pyplot.show`. At the end of (a blocking)\n",
              "``show()`` the figure is closed and thus unregistered from pyplot. Calling\n",
              "`.pyplot.savefig` afterwards would save a new and thus empty figure. This\n",
              "limitation of command order does not apply if the show is non-blocking or\n",
              "if you keep a reference to the figure and use `.Figure.savefig`.\n",
              "\n",
              "**Auto-show in jupyter notebooks**\n",
              "\n",
              "The jupyter backends (activated via ``%matplotlib inline``,\n",
              "``%matplotlib notebook``, or ``%matplotlib widget``), call ``show()`` at\n",
              "the end of every cell by default. Thus, you usually don&#x27;t have to call it\n",
              "explicitly there.</pre>\n",
              "      <script>\n",
              "      if (google.colab.kernel.accessAllowed && google.colab.files && google.colab.files.view) {\n",
              "        for (const element of document.querySelectorAll('.filepath')) {\n",
              "          element.style.display = 'block'\n",
              "          element.onclick = (event) => {\n",
              "            event.preventDefault();\n",
              "            event.stopPropagation();\n",
              "            google.colab.files.view(element.textContent, 569);\n",
              "          };\n",
              "        }\n",
              "      }\n",
              "      for (const element of document.querySelectorAll('.function-repr-contents')) {\n",
              "        element.onclick = (event) => {\n",
              "          event.preventDefault();\n",
              "          event.stopPropagation();\n",
              "          element.classList.toggle('function-repr-contents-collapsed');\n",
              "        };\n",
              "      }\n",
              "      </script>\n",
              "      </div>"
            ]
          },
          "metadata": {},
          "execution_count": 26
        },
        {
          "output_type": "display_data",
          "data": {
            "text/plain": [
              "<Figure size 600x400 with 1 Axes>"
            ],
            "image/png": "[encoded data removed]"
          },
          "metadata": {}
        }
      ]
    },
    {
      "cell_type": "code",
      "source": [
        "# pot a graph of sin(x) from 0 to 2pi\n",
        "x = np.arange(0 , 2*np.pi , 0.0001)\n",
        "y = np.sin(x)\n",
        "print(y)\n",
        "plt.figure(figsize = (6,4))\n",
        "plt.plot(x , y)\n",
        "plt.show()"
      ],
      "metadata": {
        "colab": {
          "base_uri": "https://localhost:8080/",
          "height": 403
        },
        "id": "kJAYETLhHXno",
        "outputId": "1d95aa5c-2647-4a1b-bb20-af67fe75f172"
      },
      "execution_count": null,
      "outputs": [
        {
          "output_type": "stream",
          "name": "stdout",
          "text": [
            "[ 0.00000000e+00  9.99999998e-05  1.99999999e-04 ... -2.85307176e-04\n",
            " -1.85307179e-04 -8.53071795e-05]\n"
          ]
        },
        {
          "output_type": "display_data",
          "data": {
            "text/plain": [
              "<Figure size 600x400 with 1 Axes>"
            ],
            "image/png": "[encoded data removed]"
          },
          "metadata": {}
        }
      ]
    },
    {
      "cell_type": "code",
      "source": [
        "x = np.arange(0 , 2*np.pi , 0.0001)\n",
        "y = np.log(x)\n",
        "print(y)\n",
        "plt.figure(figsize = (5,4))\n",
        "plt.plot(x , y , 'w--')\n",
        "plt.show()"
      ],
      "metadata": {
        "colab": {
          "base_uri": "https://localhost:8080/",
          "height": 457
        },
        "id": "0ay8aWapILYN",
        "outputId": "9bf104f7-9fab-4b54-b75b-998f79d65c46"
      },
      "execution_count": null,
      "outputs": [
        {
          "output_type": "stream",
          "name": "stdout",
          "text": [
            "[       -inf -9.21034037 -8.51719319 ...  1.83783166  1.83784757\n",
            "  1.83786349]\n"
          ]
        },
        {
          "output_type": "stream",
          "name": "stderr",
          "text": [
            "/tmp/ipython-input-213598642.py:2: RuntimeWarning: divide by zero encountered in log\n",
            "  y = np.log(x)\n"
          ]
        },
        {
          "output_type": "display_data",
          "data": {
            "text/plain": [
              "<Figure size 500x400 with 1 Axes>"
            ],
            "image/png": "[encoded data removed]"
          },
          "metadata": {}
        }
      ]
    },
    {
      "cell_type": "code",
      "source": [
        "x = np.arange(0 , 2*np.pi , 0.0001)\n",
        "y = np.cos(x)\n",
        "print(y)\n",
        "plt.figure(figsize = (5,4))\n",
        "plt.plot(x , y,'b--')\n",
        "plt.title('cos_curve')\n",
        "plt.xlabel('x')\n",
        "plt.ylabel('y')\n",
        "plt.show()"
      ],
      "metadata": {
        "colab": {
          "base_uri": "https://localhost:8080/",
          "height": 427
        },
        "id": "Vm_IcVh5Ib74",
        "outputId": "d9662e34-fc9e-48dc-ad67-52edb0d7772f"
      },
      "execution_count": null,
      "outputs": [
        {
          "output_type": "stream",
          "name": "stdout",
          "text": [
            "[1.         1.         0.99999998 ... 0.99999996 0.99999998 1.        ]\n"
          ]
        },
        {
          "output_type": "display_data",
          "data": {
            "text/plain": [
              "<Figure size 500x400 with 1 Axes>"
            ],
            "image/png": "[encoded data removed]"
          },
          "metadata": {}
        }
      ]
    },
    {
      "cell_type": "code",
      "source": [
        "import random\n",
        "import numpy as np\n",
        "\n",
        "np.random.random(1)\n",
        "np.random.random(2)\n",
        "np.random.random((3,4))\n"
      ],
      "metadata": {
        "colab": {
          "base_uri": "https://localhost:8080/"
        },
        "id": "d8BYKEUfJZI9",
        "outputId": "7ff8ff9d-6d85-45ca-d2ab-cfbb2c4e727b"
      },
      "execution_count": null,
      "outputs": [
        {
          "output_type": "execute_result",
          "data": {
            "text/plain": [
              "array([[0.57200512, 0.63013346, 0.12087393, 0.70786479],\n",
              "       [0.43017396, 0.08528804, 0.56804612, 0.26113915],\n",
              "       [0.6233939 , 0.67917017, 0.00443372, 0.50900348]])"
            ]
          },
          "metadata": {},
          "execution_count": 8
        }
      ]
    },
    {
      "cell_type": "code",
      "source": [
        "np.random.randint(1,100)"
      ],
      "metadata": {
        "colab": {
          "base_uri": "https://localhost:8080/"
        },
        "id": "wbt1fTYRagYL",
        "outputId": "88f2088e-e635-4ac0-9ae1-51bc49413759"
      },
      "execution_count": null,
      "outputs": [
        {
          "output_type": "execute_result",
          "data": {
            "text/plain": [
              "73"
            ]
          },
          "metadata": {},
          "execution_count": 9
        }
      ]
    },
    {
      "cell_type": "code",
      "source": [
        "np.random.randint(1,100,(3,4))"
      ],
      "metadata": {
        "colab": {
          "base_uri": "https://localhost:8080/"
        },
        "id": "MeRUDjvVbBQs",
        "outputId": "7c23cb60-60c5-4485-dd6e-583c07388386"
      },
      "execution_count": null,
      "outputs": [
        {
          "output_type": "execute_result",
          "data": {
            "text/plain": [
              "array([[72, 16, 17, 88],\n",
              "       [97, 46, 53,  3],\n",
              "       [36, 73, 17, 31]])"
            ]
          },
          "metadata": {},
          "execution_count": 10
        }
      ]
    },
    {
      "cell_type": "code",
      "source": [
        "np.random.randint(1,100 ,(3,4,5))"
      ],
      "metadata": {
        "colab": {
          "base_uri": "https://localhost:8080/"
        },
        "id": "3Jq0szg3bIqb",
        "outputId": "61305b08-90f0-4b8a-ba60-b14d9df3840a"
      },
      "execution_count": null,
      "outputs": [
        {
          "output_type": "execute_result",
          "data": {
            "text/plain": [
              "array([[[19, 77, 20, 74, 63],\n",
              "        [85, 48, 11, 34, 48],\n",
              "        [77, 80, 37, 85, 68],\n",
              "        [37, 14, 88, 43, 89]],\n",
              "\n",
              "       [[75, 44, 24, 51, 34],\n",
              "        [73, 86, 44, 43, 71],\n",
              "        [14, 23, 78, 19, 55],\n",
              "        [62, 44, 67, 33, 93]],\n",
              "\n",
              "       [[40, 61, 71, 28, 62],\n",
              "        [44, 98, 26, 90,  7],\n",
              "        [50, 74, 17, 92, 61],\n",
              "        [50, 18, 35, 57,  6]]])"
            ]
          },
          "metadata": {},
          "execution_count": 11
        }
      ]
    },
    {
      "cell_type": "code",
      "source": [
        "np.random.rand(2,2)"
      ],
      "metadata": {
        "colab": {
          "base_uri": "https://localhost:8080/"
        },
        "id": "YfsBG2eLbPfV",
        "outputId": "9866a6f7-ea4c-4295-c8b1-e20147b365bc"
      },
      "execution_count": null,
      "outputs": [
        {
          "output_type": "execute_result",
          "data": {
            "text/plain": [
              "array([[0.01374262, 0.66803056],\n",
              "       [0.53304747, 0.13270026]])"
            ]
          },
          "metadata": {},
          "execution_count": 12
        }
      ]
    },
    {
      "cell_type": "code",
      "source": [
        "np.random.randn(2,2)"
      ],
      "metadata": {
        "colab": {
          "base_uri": "https://localhost:8080/"
        },
        "id": "TeVe6IE2bcBh",
        "outputId": "1d7ae0e2-aec9-4bae-9551-6fa1d26472fa"
      },
      "execution_count": null,
      "outputs": [
        {
          "output_type": "execute_result",
          "data": {
            "text/plain": [
              "array([[-1.25532461, -1.45449261],\n",
              "       [ 1.83654223, -0.01558721]])"
            ]
          },
          "metadata": {},
          "execution_count": 13
        }
      ]
    },
    {
      "cell_type": "code",
      "source": [
        "a = np.arange(1,10)\n",
        "print(a)\n"
      ],
      "metadata": {
        "colab": {
          "base_uri": "https://localhost:8080/"
        },
        "id": "QJsOkf97bfM-",
        "outputId": "39fe52ef-60f4-4608-cd75-594bbf6c13d7"
      },
      "execution_count": null,
      "outputs": [
        {
          "output_type": "stream",
          "name": "stdout",
          "text": [
            "[1 2 3 4 5 6 7 8 9]\n"
          ]
        }
      ]
    },
    {
      "cell_type": "code",
      "source": [
        "np.random.choice(a)"
      ],
      "metadata": {
        "colab": {
          "base_uri": "https://localhost:8080/"
        },
        "id": "qF_SL_lZbo2W",
        "outputId": "1176ae56-99d2-4353-9517-7a492f24bb3f"
      },
      "execution_count": null,
      "outputs": [
        {
          "output_type": "execute_result",
          "data": {
            "text/plain": [
              "np.int64(7)"
            ]
          },
          "metadata": {},
          "execution_count": 15
        }
      ]
    },
    {
      "cell_type": "code",
      "source": [
        "import numpy as np\n",
        "a= \"Ashish is my name \"\n",
        "b = \"I am an Indian\"\n",
        "np.char.add(a,b)\n"
      ],
      "metadata": {
        "colab": {
          "base_uri": "https://localhost:8080/",
          "height": 34
        },
        "id": "wbkz1E1Vbrvb",
        "outputId": "f3a9e96a-5d18-4336-a7c4-79cfd57e2f63"
      },
      "execution_count": null,
      "outputs": [
        {
          "output_type": "execute_result",
          "data": {
            "text/plain": [
              "np.str_('Ashish ia my name I am an Indian')"
            ],
            "application/vnd.google.colaboratory.intrinsic+json": {
              "type": "string"
            }
          },
          "metadata": {},
          "execution_count": 3
        }
      ]
    },
    {
      "cell_type": "code",
      "source": [
        "np.char.upper(a)"
      ],
      "metadata": {
        "colab": {
          "base_uri": "https://localhost:8080/"
        },
        "id": "AS_1ecaaTtbY",
        "outputId": "d4d328de-8ce0-4557-c4b9-9b2ca6ed2809"
      },
      "execution_count": null,
      "outputs": [
        {
          "output_type": "execute_result",
          "data": {
            "text/plain": [
              "array('ASHISH IA MY NAME ', dtype='<U18')"
            ]
          },
          "metadata": {},
          "execution_count": 4
        }
      ]
    },
    {
      "cell_type": "code",
      "source": [
        "np.char.lower(b)"
      ],
      "metadata": {
        "colab": {
          "base_uri": "https://localhost:8080/"
        },
        "id": "jZHXIATST3tS",
        "outputId": "b32d6b7a-4a13-472b-e324-1ca0c4645729"
      },
      "execution_count": null,
      "outputs": [
        {
          "output_type": "execute_result",
          "data": {
            "text/plain": [
              "array('i am an indian', dtype='<U14')"
            ]
          },
          "metadata": {},
          "execution_count": 5
        }
      ]
    },
    {
      "cell_type": "code",
      "source": [
        "np.char.split(b)"
      ],
      "metadata": {
        "colab": {
          "base_uri": "https://localhost:8080/"
        },
        "id": "I0IyByZUT6X_",
        "outputId": "32277682-73e4-40cb-cf7e-0c12019f81a4"
      },
      "execution_count": null,
      "outputs": [
        {
          "output_type": "execute_result",
          "data": {
            "text/plain": [
              "array(list(['I', 'am', 'an', 'Indian']), dtype=object)"
            ]
          },
          "metadata": {},
          "execution_count": 7
        }
      ]
    },
    {
      "cell_type": "code",
      "source": [
        "c = \"hello guys , this is Ashish\"\n",
        "np.char.splitlines(c)"
      ],
      "metadata": {
        "colab": {
          "base_uri": "https://localhost:8080/"
        },
        "id": "vuASUU7_Ukt6",
        "outputId": "c0144ce3-dd92-4713-9cb3-50af6a5f7dc1"
      },
      "execution_count": null,
      "outputs": [
        {
          "output_type": "execute_result",
          "data": {
            "text/plain": [
              "array(list(['hello guys , this is Ashish']), dtype=object)"
            ]
          },
          "metadata": {},
          "execution_count": 9
        }
      ]
    },
    {
      "cell_type": "markdown",
      "source": [
        "# What is Data Distribution?\n",
        "\n",
        "**Ans-Data Distribution is a list of all possible values , and how often each value  occurs. **"
      ],
      "metadata": {
        "id": "msp-dcKUJ_ig"
      }
    },
    {
      "cell_type": "markdown",
      "source": [
        "**Probability Density Function: A function THat describe a continuous probability.i.e.probability of all values in an array**"
      ],
      "metadata": {
        "id": "d0t6avx0Kb6V"
      }
    },
    {
      "cell_type": "code",
      "source": [
        "from numpy import random\n",
        "x = random.choice([3,5,7,9] , p =[0.1,0.3,0.6,0.0] , size=(100))\n",
        "x"
      ],
      "metadata": {
        "colab": {
          "base_uri": "https://localhost:8080/"
        },
        "id": "MLeOXIofKq8N",
        "outputId": "e46d0ef6-0aa6-47b0-e900-2430181365ae"
      },
      "execution_count": 4,
      "outputs": [
        {
          "output_type": "execute_result",
          "data": {
            "text/plain": [
              "array([5, 7, 7, 3, 7, 7, 7, 7, 5, 5, 5, 7, 3, 7, 7, 7, 3, 5, 7, 7, 7, 5,\n",
              "       7, 7, 5, 7, 5, 7, 3, 7, 5, 5, 3, 7, 7, 5, 7, 7, 7, 7, 7, 5, 7, 5,\n",
              "       5, 5, 5, 5, 5, 7, 7, 5, 7, 7, 7, 7, 7, 7, 5, 7, 3, 7, 5, 5, 3, 5,\n",
              "       7, 7, 7, 7, 3, 7, 5, 7, 3, 5, 7, 5, 7, 3, 7, 7, 5, 7, 5, 7, 7, 3,\n",
              "       7, 7, 5, 7, 7, 5, 7, 7, 5, 5, 3, 7])"
            ]
          },
          "metadata": {},
          "execution_count": 4
        }
      ]
    },
    {
      "cell_type": "code",
      "source": [
        "from  numpy import random\n",
        "x = random.choice([3,5,7,9],p=[0.1,0.3,0.6,0.0] , size=(3,4))\n",
        "x"
      ],
      "metadata": {
        "colab": {
          "base_uri": "https://localhost:8080/"
        },
        "id": "2Y8jAgSaK9ir",
        "outputId": "2363c82b-29d9-48c4-f80b-e6bf88c80cee"
      },
      "execution_count": 5,
      "outputs": [
        {
          "output_type": "execute_result",
          "data": {
            "text/plain": [
              "array([[7, 7, 7, 5],\n",
              "       [5, 7, 3, 7],\n",
              "       [3, 5, 7, 7]])"
            ]
          },
          "metadata": {},
          "execution_count": 5
        }
      ]
    },
    {
      "cell_type": "markdown",
      "source": [
        "# Random Permutations of Elements\n",
        "\n",
        "**A permutation refer to an arrangement of elements e.g.[3,2,1] is  a permutation of [1,2,3] and vice-versa.**"
      ],
      "metadata": {
        "id": "8Vxgp8YRLolo"
      }
    },
    {
      "cell_type": "code",
      "source": [
        "import numpy as np\n",
        "from numpy import random\n",
        "arr = np.array([1,2,3,4,5])\n",
        "random.shuffle(arr)  # randomly suffle the elements of array\n",
        "print(arr)"
      ],
      "metadata": {
        "colab": {
          "base_uri": "https://localhost:8080/"
        },
        "id": "BAxYS300MABn",
        "outputId": "84bd74f0-3ca1-431f-f03d-f3e61bc23799"
      },
      "execution_count": 6,
      "outputs": [
        {
          "output_type": "stream",
          "name": "stdout",
          "text": [
            "[3 2 5 4 1]\n"
          ]
        }
      ]
    },
    {
      "cell_type": "code",
      "source": [
        "from numpy import random\n",
        "import numpy as np\n",
        "arr = np.array([1,2,3,4,5,6])\n",
        "print(random.permutation(arr))"
      ],
      "metadata": {
        "colab": {
          "base_uri": "https://localhost:8080/"
        },
        "id": "GiG0cxMUMY4W",
        "outputId": "f9d347d5-61eb-4f74-8593-c82b65a9a216"
      },
      "execution_count": 7,
      "outputs": [
        {
          "output_type": "stream",
          "name": "stdout",
          "text": [
            "[3 2 4 6 5 1]\n"
          ]
        }
      ]
    },
    {
      "cell_type": "markdown",
      "source": [
        "# Normal Distribution\n",
        "\n",
        "THe Normal distribution is one of the mot import distributiions.\n",
        "\n",
        "it fits the probability of many events, e.g.IQ Scores , heartBeat and etc."
      ],
      "metadata": {
        "id": "uwCTS0dwMsMW"
      }
    },
    {
      "cell_type": "code",
      "source": [
        "from numpy import random\n",
        "x = random.normal(size=(2,3))\n",
        "x"
      ],
      "metadata": {
        "colab": {
          "base_uri": "https://localhost:8080/"
        },
        "id": "3ccrtw3yMlvF",
        "outputId": "0cff779a-700b-4ac8-dedf-94e17d6c85df"
      },
      "execution_count": 9,
      "outputs": [
        {
          "output_type": "execute_result",
          "data": {
            "text/plain": [
              "array([[ 0.61261791, -1.10862039,  0.56067539],\n",
              "       [-1.34925613,  0.15944915, -0.61344853]])"
            ]
          },
          "metadata": {},
          "execution_count": 9
        }
      ]
    },
    {
      "cell_type": "code",
      "source": [
        "from numpy import random\n",
        "x = random.normal(loc=1 , scale=2 , size=(2,3))\n",
        "x # loc=mean , Scale=standard Deviation"
      ],
      "metadata": {
        "colab": {
          "base_uri": "https://localhost:8080/"
        },
        "id": "sDHlr0b4NNRK",
        "outputId": "acf8b01d-2258-41fe-9752-59a3603b3529"
      },
      "execution_count": 10,
      "outputs": [
        {
          "output_type": "execute_result",
          "data": {
            "text/plain": [
              "array([[ 0.82304782, -2.5706826 ,  0.04032248],\n",
              "       [ 0.82816182, -0.20671272,  2.83607015]])"
            ]
          },
          "metadata": {},
          "execution_count": 10
        }
      ]
    },
    {
      "cell_type": "code",
      "source": [
        "from numpy import random\n",
        "import matplotlib.pyplot as plt\n",
        "import seaborn as sns\n",
        "\n",
        "sns.displot(random.normal(size=1000),kind='kde')\n",
        "plt.show()"
      ],
      "metadata": {
        "colab": {
          "base_uri": "https://localhost:8080/",
          "height": 506
        },
        "id": "SmZn7OPVNbje",
        "outputId": "5ff33d47-0459-4f5b-f561-0d39b516c6cd"
      },
      "execution_count": 11,
      "outputs": [
        {
          "output_type": "display_data",
          "data": {
            "text/plain": [
              "<Figure size 500x500 with 1 Axes>"
            ],
            "image/png": "[encoded data removed]"
          },
          "metadata": {}
        }
      ]
    },
    {
      "cell_type": "markdown",
      "source": [
        "# Binomail Distribution\n",
        "\n",
        "**Binomail distribution is discrete distibution.**\n",
        "\n",
        "**it describes the outcome of binary scenarios,e.g.toss of coin , it will either be head or tails**"
      ],
      "metadata": {
        "id": "l220xVpuN8v2"
      }
    },
    {
      "cell_type": "code",
      "source": [
        "from numpy  import random\n",
        "x= random.binomial  (n= 10 , p=0.5, size=10)\n",
        "x  # n= number of trails and p= probability"
      ],
      "metadata": {
        "colab": {
          "base_uri": "https://localhost:8080/"
        },
        "id": "zv2S8dqPN3SC",
        "outputId": "1b7a6d98-356d-4e50-ad54-272c4fb9626e"
      },
      "execution_count": 12,
      "outputs": [
        {
          "output_type": "execute_result",
          "data": {
            "text/plain": [
              "array([3, 7, 7, 5, 3, 5, 7, 5, 7, 4])"
            ]
          },
          "metadata": {},
          "execution_count": 12
        }
      ]
    },
    {
      "cell_type": "code",
      "source": [
        "from numpy import random\n",
        "import matplotlib.pyplot as plt\n",
        "import seaborn as sns\n",
        "\n",
        "sns.displot(random.binomial(n=10, p=0.5, size=1000))\n",
        "\n",
        "plt.show()"
      ],
      "metadata": {
        "colab": {
          "base_uri": "https://localhost:8080/",
          "height": 506
        },
        "id": "iOfTkp_gOmZ6",
        "outputId": "d955c255-0165-4e4a-832a-e23ae807b1b9"
      },
      "execution_count": 13,
      "outputs": [
        {
          "output_type": "display_data",
          "data": {
            "text/plain": [
              "<Figure size 500x500 with 1 Axes>"
            ],
            "image/png": "[encoded data removed]"
          },
          "metadata": {}
        }
      ]
    },
    {
      "cell_type": "markdown",
      "source": [
        "# Difference Between Normal and Binomial Distribution\n",
        "\n",
        "\n",
        "**The main difference is that normal distribution is continous whereas binomial is discrete , but if there are enough data points it will be quit similar to normal distributionwith certain loc,and scale.**"
      ],
      "metadata": {
        "id": "BDf1S0d-O9lT"
      }
    },
    {
      "cell_type": "code",
      "source": [
        "from numpy import random\n",
        "import matplotlib.pyplot as plt\n",
        "import seaborn as sns\n",
        "\n",
        "data = {\n",
        "  \"normal\": random.normal(loc=50, scale=5, size=1000),\n",
        "  \"binomial\": random.binomial(n=100, p=0.5, size=1000)\n",
        "}\n",
        "\n",
        "sns.displot(data, kind=\"kde\")\n",
        "\n",
        "plt.show()"
      ],
      "metadata": {
        "colab": {
          "base_uri": "https://localhost:8080/",
          "height": 506
        },
        "id": "CxiljKQwOxot",
        "outputId": "e8d738f1-64de-4c63-d04d-3aee953479ac"
      },
      "execution_count": 14,
      "outputs": [
        {
          "output_type": "display_data",
          "data": {
            "text/plain": [
              "<Figure size 609.875x500 with 1 Axes>"
            ],
            "image/png": "[encoded data removed]"
          },
          "metadata": {}
        }
      ]
    },
    {
      "cell_type": "markdown",
      "source": [
        "# Poisson Distribution\n",
        "\n",
        "Poisson Distribution is a discrete Distribution.\n",
        "\n",
        "**It estimate how many times an event can happen in a specified time.e.g.if someone eats twice a day what is the probability he will eat thrice?**"
      ],
      "metadata": {
        "id": "KFM_JJQ3e2w2"
      }
    },
    {
      "cell_type": "code",
      "source": [
        "from numpy import random\n",
        "x = random.poisson(lam=2, size=10)\n",
        "x\n",
        "# rate or known number of occurrences e.g.2 for above problem\n",
        "# the shape of the returned array\n"
      ],
      "metadata": {
        "colab": {
          "base_uri": "https://localhost:8080/"
        },
        "id": "02oAYyevPoWF",
        "outputId": "c3488dc0-21b7-42fb-b922-a1f3e361fdbe"
      },
      "execution_count": 15,
      "outputs": [
        {
          "output_type": "execute_result",
          "data": {
            "text/plain": [
              "array([2, 2, 3, 5, 2, 2, 1, 1, 2, 1])"
            ]
          },
          "metadata": {},
          "execution_count": 15
        }
      ]
    },
    {
      "cell_type": "code",
      "source": [
        "from numpy import random\n",
        "import matplotlib.pyplot as plt\n",
        "import seaborn as sns\n",
        "\n",
        "sns.displot(random.poisson(lam=2, size=1000), kind=\"kde\")\n",
        "plt.show()"
      ],
      "metadata": {
        "colab": {
          "base_uri": "https://localhost:8080/",
          "height": 506
        },
        "id": "g8U4henGft-f",
        "outputId": "6476ee68-dd56-4880-8f88-0ba43be29764"
      },
      "execution_count": 16,
      "outputs": [
        {
          "output_type": "display_data",
          "data": {
            "text/plain": [
              "<Figure size 500x500 with 1 Axes>"
            ],
            "image/png": "[encoded data removed]"
          },
          "metadata": {}
        }
      ]
    },
    {
      "cell_type": "code",
      "source": [
        "from numpy import random\n",
        "import matplotlib.pyplot as plt\n",
        "import seaborn as sns\n",
        "\n",
        "data = {\n",
        "    \"possion\" : random.poisson(lam=50 , size =1000),\n",
        "    \"normal\": random.normal(loc=50, scale=7, size=1000)\n",
        "}\n",
        "sns.displot(data, kind=\"kde\")\n",
        "plt.show()"
      ],
      "metadata": {
        "colab": {
          "base_uri": "https://localhost:8080/",
          "height": 506
        },
        "id": "3UrAXUVDgGOu",
        "outputId": "96b419b1-8d10-4be1-abe6-0d0a21a10d81"
      },
      "execution_count": 22,
      "outputs": [
        {
          "output_type": "display_data",
          "data": {
            "text/plain": [
              "<Figure size 602.75x500 with 1 Axes>"
            ],
            "image/png": "[encoded data removed]"
          },
          "metadata": {}
        }
      ]
    },
    {
      "cell_type": "code",
      "source": [
        "from numpy import random\n",
        "import matplotlib.pyplot as plt\n",
        "import seaborn as sns\n",
        "\n",
        "data = {\n",
        "    \"binomial\" : random.binomial(n=10, p=0.01, size=1000),\n",
        "    \"poisson\" : random.poisson(lam=10, size=1000)\n",
        "}\n",
        "sns.displot(data,kind=\"kde\")\n",
        "plt.show()"
      ],
      "metadata": {
        "colab": {
          "base_uri": "https://localhost:8080/",
          "height": 506
        },
        "id": "gmvQNhwThRe8",
        "outputId": "aca4bb64-dcb2-400a-c50f-220b064f3ef0"
      },
      "execution_count": 27,
      "outputs": [
        {
          "output_type": "display_data",
          "data": {
            "text/plain": [
              "<Figure size 609.875x500 with 1 Axes>"
            ],
            "image/png": "[encoded data removed]"
          },
          "metadata": {}
        }
      ]
    },
    {
      "cell_type": "code",
      "source": [],
      "metadata": {
        "id": "KqahxlzOh1zQ"
      },
      "execution_count": null,
      "outputs": []
    }
  ]
}